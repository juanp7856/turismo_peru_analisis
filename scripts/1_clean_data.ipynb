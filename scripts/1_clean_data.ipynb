{
 "cells": [
  {
   "cell_type": "markdown",
   "id": "62aa4307",
   "metadata": {},
   "source": [
    "Importación de Librerías para cargar los datos y manipularlos"
   ]
  },
  {
   "cell_type": "code",
   "execution_count": 9,
   "id": "82c4c26f",
   "metadata": {},
   "outputs": [],
   "source": [
    "import pandas as pd\n",
    "import unidecode"
   ]
  },
  {
   "cell_type": "markdown",
   "id": "045a0300",
   "metadata": {},
   "source": [
    "Limpieza y normalización de datos | Inventario de Recursos Turísticos"
   ]
  },
  {
   "cell_type": "code",
   "execution_count": null,
   "id": "d67dc840",
   "metadata": {},
   "outputs": [],
   "source": [
    "# Leer CSV original (Latin-1)\n",
    "df = pd.read_csv(\"../data/raw/inventario_recursos_turisticos.csv\", \n",
    "    sep=\";\", \n",
    "    encoding=\"latin-1\")\n",
    "\n",
    "# Renombrar columnas\n",
    "df.columns = (\n",
    "    df.columns\n",
    "    .str.strip()\n",
    "    .str.lower()\n",
    "    .str.replace(\" \", \"_\")\n",
    "    .map(lambda x: unidecode.unidecode(x))\n",
    ")\n",
    "\n",
    "# Arreglar texto de columnas principales\n",
    "for col in [\"region\", \"provincia\", \"distrito\", \"categoria\", \"tipo_de_categoria\", \"sub_tipo_categoria\"]:\n",
    "    df[col] = (\n",
    "        df[col]\n",
    "            .astype(str)\n",
    "            .str.strip()\n",
    "            .str.title()\n",
    "            .apply(lambda x: unidecode.unidecode(x))\n",
    "    )\n",
    "\n",
    "# Eliminar duplicados o filas vacías\n",
    "df = df.drop_duplicates(subset=[\"codigo_del_recurso\"])\n",
    "df = df.dropna(subset=[\"nombre_del_recurso\"])\n",
    "\n",
    "# Convertir coordenadas a numéricas\n",
    "df[\"latitud\"] = pd.to_numeric(df[\"latitud\"], errors=\"coerce\")\n",
    "df[\"longitud\"] = pd.to_numeric(df[\"longitud\"], errors=\"coerce\")\n",
    "\n",
    "# Cambiar formato de fecha\n",
    "df[\"fecha_de_corte\"] = pd.to_datetime(\n",
    "    df[\"fecha_de_corte\"].astype(str),\n",
    "    format=\"%Y%m%d\", \n",
    "    errors=\"coerce\")\n",
    "\n",
    "# Guardar limpio\n",
    "df.to_csv(\"../data/cleaned/inventario_recursos_turisticos_clean.csv\", index=False, encoding=\"utf-8\")\n",
    "print(\"Archivo limpiado correctamente\")"
   ]
  },
  {
   "cell_type": "markdown",
   "id": "05fa7386",
   "metadata": {},
   "source": [
    "Limpieza y normalización de datos | Turismo en Áreas Naturales Protegidas por el Estado"
   ]
  },
  {
   "cell_type": "code",
   "execution_count": 34,
   "id": "f464a532",
   "metadata": {},
   "outputs": [
    {
     "name": "stdout",
     "output_type": "stream",
     "text": [
      "Archivo limpiado correctamente\n"
     ]
    }
   ],
   "source": [
    "# Leer CSV original (Latin-1)\n",
    "df = pd.read_csv(\"../data/raw/SERNANPdataset_Turismo.csv\", \n",
    "    sep=\",\", \n",
    "    encoding=\"utf-8\")\n",
    "\n",
    "# Renombrar columnas\n",
    "df.columns = (\n",
    "    df.columns\n",
    "    .str.strip()\n",
    "    .str.lower()\n",
    "    .str.replace(\" \", \"_\")\n",
    "    .map(lambda x: unidecode.unidecode(x))\n",
    ")\n",
    "\n",
    "\n",
    "# Arreglar texto de columnas principales\n",
    "for col in [\"anp\", \"sector\", \"departamento\", \"provincia\", \"distrito\", \"procedencia\", \"edad\"]:\n",
    "    df[col] = (\n",
    "        df[col]\n",
    "            .astype(str)\n",
    "            .str.strip()\n",
    "            .str.title()\n",
    "            .apply(lambda x: unidecode.unidecode(x))\n",
    "    )\n",
    "\n",
    "\n",
    "# Eliminar filas sin ANP o departamento\n",
    "df = df.dropna(subset=[\"anp\", \"departamento\"])\n",
    "df = df[df[\"departamento\"] != \"Nan\"]\n",
    "\n",
    "# Mantener UBIGEO como string para no perder ceros a la izquierda\n",
    "df[\"ubigeo\"] = df[\"ubigeo\"].astype(str).str.zfill(6)\n",
    "\n",
    "# Convertir fechas\n",
    "df[\"fecha\"] = pd.to_datetime(df[\"fecha\"].astype(str), format=\"%Y%m%d\", errors=\"coerce\")\n",
    "df[\"fecha_corte\"] = pd.to_datetime(df[\"fecha_corte\"].astype(str), format=\"%Y%m%d\", errors=\"coerce\")\n",
    "\n",
    "# Asegurar tipos numéricos en las visitas\n",
    "for col in [\"visitas_e1\", \"visitas_e2a3\", \"visitas_e3a30\"]:\n",
    "    df[col] = pd.to_numeric(df[col], errors=\"coerce\").fillna(0).astype(int)\n",
    "\n",
    "# Guardar limpio\n",
    "df.to_csv(\"../data/cleaned/visitas_anp_clean.csv\", index=False, encoding=\"utf-8\")\n",
    "print(\"Archivo limpiado correctamente\")"
   ]
  },
  {
   "cell_type": "markdown",
   "id": "a4362831",
   "metadata": {},
   "source": [
    "Limpieza y normalización de datos | Servicios Turísticos"
   ]
  },
  {
   "cell_type": "code",
   "execution_count": 30,
   "id": "41bdc694",
   "metadata": {},
   "outputs": [
    {
     "name": "stdout",
     "output_type": "stream",
     "text": [
      "Archivo limpiado correctamente\n"
     ]
    }
   ],
   "source": [
    "# Leer CSV original (Latin-1)\n",
    "df = pd.read_csv(\"../data/raw/Reporte_ServiciosTuristicos_iPeru_fecha_Enero2025_.csv\", \n",
    "    sep=\";\", \n",
    "    encoding=\"utf-8\")\n",
    "\n",
    "# Renombrar columnas\n",
    "df.columns = (\n",
    "    df.columns\n",
    "    .str.strip()\n",
    "    .str.lower()\n",
    "    .str.replace(\" \", \"_\")\n",
    "    .map(lambda x: unidecode.unidecode(x))\n",
    ")\n",
    "\n",
    "# Arreglar texto de columnas principales\n",
    "for col in [\n",
    "    \"nombre_de_servicio_turistico\", \"clasificacion\", \"categoria\", \"subcategoria\",\n",
    "    \"direccion\", \"correo_electronico\", \"sitio_web\", \"telefono\",\n",
    "    \"nombre_de_departamento\", \"nombre_de_provincia\", \"nombre_de_distrito\",\n",
    "    \"siglas\", \"nombre_de_empresa\"\n",
    "    ]:\n",
    "\n",
    "    df[col] = (\n",
    "        df[col]\n",
    "            .astype(str)\n",
    "            .str.strip()\n",
    "            .str.title()\n",
    "            .apply(lambda x: unidecode.unidecode(x))\n",
    "    )\n",
    "\n",
    "# Corregir correos y URLs (minúsculas)\n",
    "for col in [\"correo_electronico\", \"sitio_web\"]:\n",
    "    if col in df.columns:\n",
    "        df[col] = df[col].str.lower().str.strip()\n",
    "\n",
    "# Convertir fechas\n",
    "for fecha_col in [\"fecha_de_registro_de_empresa\", \"fecha_actualizacion_datos_de_empresa\"]:\n",
    "    if fecha_col in df.columns:\n",
    "        df[fecha_col] = pd.to_datetime(df[fecha_col], format=\"%d/%m/%Y\", errors=\"coerce\")\n",
    "\n",
    "# Normalizar RUC y codificación geográfica\n",
    "if \"ruc\" in df.columns:\n",
    "    df[\"ruc\"] = df[\"ruc\"].astype(str).str.strip()\n",
    "\n",
    "for geo_col in [\"codigo_de_departamento\", \"codigo_de_provincia\", \"codigo_de_distrito\"]:\n",
    "    if geo_col in df.columns:\n",
    "        df[geo_col] = df[geo_col].astype(str).str.zfill(2)\n",
    "\n",
    "# Eliminar duplicados o filas vacías\n",
    "df = df.dropna(subset=[\"nombre_de_servicio_turistico\", \"nombre_de_departamento\"])\n",
    "\n",
    "\n",
    "# Guardar limpio\n",
    "df.to_csv(\"../data/cleaned/servicios_turisticos_clean.csv\", index=False, encoding=\"utf-8\")\n",
    "print(\"Archivo limpiado correctamente\")"
   ]
  }
 ],
 "metadata": {
  "kernelspec": {
   "display_name": "Python 3",
   "language": "python",
   "name": "python3"
  },
  "language_info": {
   "codemirror_mode": {
    "name": "ipython",
    "version": 3
   },
   "file_extension": ".py",
   "mimetype": "text/x-python",
   "name": "python",
   "nbconvert_exporter": "python",
   "pygments_lexer": "ipython3",
   "version": "3.12.4"
  }
 },
 "nbformat": 4,
 "nbformat_minor": 5
}
